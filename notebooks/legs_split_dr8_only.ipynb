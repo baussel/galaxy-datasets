{
 "cells": [
  {
   "cell_type": "code",
   "execution_count": 1,
   "metadata": {},
   "outputs": [],
   "source": [
    "import os\n",
    "\n",
    "import pandas as pd\n",
    "\n",
    "from sklearn.model_selection import train_test_split\n",
    "\n",
    "from zoobot.shared.label_metadata import decals_all_campaigns_ortho_label_cols\n"
   ]
  },
  {
   "cell_type": "code",
   "execution_count": 2,
   "metadata": {},
   "outputs": [],
   "source": [
    "dr12 = pd.read_parquet('/home/walml/repos/gz-decals-classifiers/data/catalogs/training_catalogs/dr12_ortho_v2_labelled_catalog.parquet')\n",
    "dr5 = pd.read_parquet('/home/walml/repos/gz-decals-classifiers/data/catalogs/training_catalogs/dr5_ortho_v2_labelled_catalog.parquet')\n",
    "dr8 = pd.read_parquet('/home/walml/repos/gz-decals-classifiers/data/catalogs/training_catalogs/dr8_ortho_v2_labelled_catalog.parquet')"
   ]
  },
  {
   "cell_type": "code",
   "execution_count": 3,
   "metadata": {},
   "outputs": [
    {
     "data": {
      "text/html": [
       "<div>\n",
       "<style scoped>\n",
       "    .dataframe tbody tr th:only-of-type {\n",
       "        vertical-align: middle;\n",
       "    }\n",
       "\n",
       "    .dataframe tbody tr th {\n",
       "        vertical-align: top;\n",
       "    }\n",
       "\n",
       "    .dataframe thead th {\n",
       "        text-align: right;\n",
       "    }\n",
       "</style>\n",
       "<table border=\"1\" class=\"dataframe\">\n",
       "  <thead>\n",
       "    <tr style=\"text-align: right;\">\n",
       "      <th></th>\n",
       "      <th>dr8_id</th>\n",
       "      <th>iauname</th>\n",
       "      <th>redshift</th>\n",
       "    </tr>\n",
       "  </thead>\n",
       "  <tbody>\n",
       "    <tr>\n",
       "      <th>104104</th>\n",
       "      <td>633360_2388</td>\n",
       "      <td>None</td>\n",
       "      <td>NaN</td>\n",
       "    </tr>\n",
       "    <tr>\n",
       "      <th>3021679</th>\n",
       "      <td>604391_1583</td>\n",
       "      <td>None</td>\n",
       "      <td>0.215594</td>\n",
       "    </tr>\n",
       "    <tr>\n",
       "      <th>7817399</th>\n",
       "      <td>238082_3741</td>\n",
       "      <td>None</td>\n",
       "      <td>NaN</td>\n",
       "    </tr>\n",
       "    <tr>\n",
       "      <th>7570335</th>\n",
       "      <td>266010_2712</td>\n",
       "      <td>None</td>\n",
       "      <td>0.179971</td>\n",
       "    </tr>\n",
       "    <tr>\n",
       "      <th>5642749</th>\n",
       "      <td>466697_436</td>\n",
       "      <td>None</td>\n",
       "      <td>0.188027</td>\n",
       "    </tr>\n",
       "  </tbody>\n",
       "</table>\n",
       "</div>"
      ],
      "text/plain": [
       "              dr8_id iauname  redshift\n",
       "104104   633360_2388    None       NaN\n",
       "3021679  604391_1583    None  0.215594\n",
       "7817399  238082_3741    None       NaN\n",
       "7570335  266010_2712    None  0.179971\n",
       "5642749   466697_436    None  0.188027"
      ]
     },
     "execution_count": 3,
     "metadata": {},
     "output_type": "execute_result"
    }
   ],
   "source": [
    "megacatalog = pd.read_parquet('/home/walml/repos/decals-rings/results/rings_megacatalog.parquet', columns=['dr8_id', 'iauname', 'redshift'])\n",
    "megacatalog.sample(5)"
   ]
  },
  {
   "cell_type": "code",
   "execution_count": 4,
   "metadata": {},
   "outputs": [
    {
     "name": "stdout",
     "output_type": "stream",
     "text": [
      "85730\n",
      "82387\n"
     ]
    }
   ],
   "source": [
    "print(len(dr12))\n",
    "dr12 = pd.merge(dr12, megacatalog, on='iauname', how='inner')\n",
    "print(len(dr12))"
   ]
  },
  {
   "cell_type": "code",
   "execution_count": 5,
   "metadata": {},
   "outputs": [
    {
     "name": "stdout",
     "output_type": "stream",
     "text": [
      "228059\n",
      "222754\n"
     ]
    }
   ],
   "source": [
    "print(len(dr5))\n",
    "dr5 = pd.merge(dr5, megacatalog, on='iauname', how='inner')\n",
    "print(len(dr5))"
   ]
  },
  {
   "cell_type": "code",
   "execution_count": 6,
   "metadata": {},
   "outputs": [],
   "source": [
    "# replace with cross-matched\n",
    "dr12['id_str'] = dr12['dr8_id']\n",
    "dr5['id_str'] = dr5['dr8_id']"
   ]
  },
  {
   "cell_type": "code",
   "execution_count": 7,
   "metadata": {},
   "outputs": [
    {
     "data": {
      "text/plain": [
       "365770"
      ]
     },
     "execution_count": 7,
     "metadata": {},
     "output_type": "execute_result"
    }
   ],
   "source": [
    "labelled = pd.concat([dr12, dr5, dr8], axis=0)\n",
    "len(labelled)"
   ]
  },
  {
   "cell_type": "markdown",
   "metadata": {},
   "source": [
    "Now make the unlabelled catalog from the remainder"
   ]
  },
  {
   "cell_type": "code",
   "execution_count": 8,
   "metadata": {},
   "outputs": [
    {
     "name": "stderr",
     "output_type": "stream",
     "text": [
      "/nvme1/scratch/miniconda3/envs/zoobot/lib/python3.7/site-packages/ipykernel_launcher.py:2: SettingWithCopyWarning: \n",
      "A value is trying to be set on a copy of a slice from a DataFrame.\n",
      "Try using .loc[row_indexer,col_indexer] = value instead\n",
      "\n",
      "See the caveats in the documentation: https://pandas.pydata.org/pandas-docs/stable/user_guide/indexing.html#returning-a-view-versus-a-copy\n",
      "  \n"
     ]
    },
    {
     "data": {
      "text/plain": [
       "8323600"
      ]
     },
     "execution_count": 8,
     "metadata": {},
     "output_type": "execute_result"
    }
   ],
   "source": [
    "unlabelled = megacatalog[~megacatalog['dr8_id'].isin(labelled['dr8_id'])]\n",
    "unlabelled['id_str'] = unlabelled['dr8_id']\n",
    "len(unlabelled)  # mostly high-z, some redshift filtering would be wise"
   ]
  },
  {
   "cell_type": "code",
   "execution_count": 9,
   "metadata": {},
   "outputs": [
    {
     "name": "stderr",
     "output_type": "stream",
     "text": [
      "/nvme1/scratch/miniconda3/envs/zoobot/lib/python3.7/site-packages/ipykernel_launcher.py:2: SettingWithCopyWarning: \n",
      "A value is trying to be set on a copy of a slice from a DataFrame.\n",
      "Try using .loc[row_indexer,col_indexer] = value instead\n",
      "\n",
      "See the caveats in the documentation: https://pandas.pydata.org/pandas-docs/stable/user_guide/indexing.html#returning-a-view-versus-a-copy\n",
      "  \n",
      "/nvme1/scratch/miniconda3/envs/zoobot/lib/python3.7/site-packages/ipykernel_launcher.py:2: PerformanceWarning: DataFrame is highly fragmented.  This is usually the result of calling `frame.insert` many times, which has poor performance.  Consider joining all columns at once using pd.concat(axis=1) instead.  To get a de-fragmented frame, use `newframe = frame.copy()`\n",
      "  \n"
     ]
    }
   ],
   "source": [
    "for col in decals_all_campaigns_ortho_label_cols:\n",
    "    unlabelled[col] = 0\n",
    "unlabelled = unlabelled.copy().sample(len(unlabelled), random_state=42)"
   ]
  },
  {
   "cell_type": "code",
   "execution_count": 10,
   "metadata": {},
   "outputs": [
    {
     "name": "stderr",
     "output_type": "stream",
     "text": [
      "/nvme1/scratch/miniconda3/envs/zoobot/lib/python3.7/site-packages/ipykernel_launcher.py:2: PerformanceWarning: DataFrame is highly fragmented.  This is usually the result of calling `frame.insert` many times, which has poor performance.  Consider joining all columns at once using pd.concat(axis=1) instead.  To get a de-fragmented frame, use `newframe = frame.copy()`\n",
      "  \n",
      "/nvme1/scratch/miniconda3/envs/zoobot/lib/python3.7/site-packages/ipykernel_launcher.py:3: PerformanceWarning: DataFrame is highly fragmented.  This is usually the result of calling `frame.insert` many times, which has poor performance.  Consider joining all columns at once using pd.concat(axis=1) instead.  To get a de-fragmented frame, use `newframe = frame.copy()`\n",
      "  This is separate from the ipykernel package so we can avoid doing imports until\n"
     ]
    },
    {
     "name": "stdout",
     "output_type": "stream",
     "text": [
      "0    /share/nas2/walml/galaxy_zoo/decals/dr8/jpg/34...\n",
      "0    /share/nas2/walml/galaxy_zoo/decals/dr8/jpg/33...\n",
      "0    /share/nas2/walml/galaxy_zoo/decals/dr8/jpg/17...\n",
      "Name: file_loc, dtype: object\n",
      "/share/nas2/walml/galaxy_zoo/decals/dr8/jpg/43543/43543_92.jpg\n"
     ]
    }
   ],
   "source": [
    "for df in [labelled, unlabelled]:  # dr8 already has but it points to the png\n",
    "    df['brickid'] = df['id_str'].apply(lambda x: x.split('_')[0])\n",
    "    df['objid'] = df['id_str'].apply(lambda x: x.split('_')[1])\n",
    "    df['file_loc'] = '/share/nas2/walml/galaxy_zoo/decals/dr8/jpg/' + df['brickid'] + '/' + df['id_str'] + '.jpg'\n",
    "    print(df['file_loc'][0])"
   ]
  },
  {
   "cell_type": "code",
   "execution_count": 11,
   "metadata": {},
   "outputs": [],
   "source": [
    "train_catalog, test_catalog = train_test_split(labelled, test_size=0.2, random_state=42)  # note that because we dropped a few rows which couldn't be cross-matched, this is not the same split as the original_images version"
   ]
  },
  {
   "cell_type": "code",
   "execution_count": 12,
   "metadata": {},
   "outputs": [],
   "source": [
    "train_catalog.to_parquet('/home/walml/repos/pytorch-galaxy-datasets/roots/legs_root/legs_all_campaigns_ortho_dr8_only_train_catalog.parquet', index=False)\n",
    "test_catalog.to_parquet('/home/walml/repos/pytorch-galaxy-datasets/roots/legs_root/legs_all_campaigns_ortho_dr8_only_test_catalog.parquet', index=False)"
   ]
  },
  {
   "cell_type": "code",
   "execution_count": 13,
   "metadata": {},
   "outputs": [],
   "source": [
    "unlabelled.to_parquet('/home/walml/repos/pytorch-galaxy-datasets/roots/legs_root/legs_all_campaigns_ortho_dr8_only_unlabelled_catalog.parquet', index=False)"
   ]
  },
  {
   "cell_type": "code",
   "execution_count": 14,
   "metadata": {},
   "outputs": [
    {
     "name": "stdout",
     "output_type": "stream",
     "text": [
      "bae2906e337bd114af013d02f3782473\n",
      "20919fe512ee8ce4d267790e519fcbf8\n",
      "fbf287990add34d2249f584325bc9dca\n"
     ]
    }
   ],
   "source": [
    "import hashlib\n",
    "\n",
    "for loc in [\n",
    "    '/home/walml/repos/pytorch-galaxy-datasets/roots/legs_root/legs_all_campaigns_ortho_dr8_only_train_catalog.parquet',\n",
    "    '/home/walml/repos/pytorch-galaxy-datasets/roots/legs_root/legs_all_campaigns_ortho_dr8_only_test_catalog.parquet',\n",
    "    '/home/walml/repos/pytorch-galaxy-datasets/roots/legs_root/legs_all_campaigns_ortho_dr8_only_unlabelled_catalog.parquet'\n",
    "]:\n",
    "    # print hash\n",
    "    with open(loc, 'rb') as f:\n",
    "        md5_checksum = hashlib.md5(f.read()).hexdigest()\n",
    "\n",
    "    print(md5_checksum)"
   ]
  },
  {
   "cell_type": "code",
   "execution_count": null,
   "metadata": {},
   "outputs": [],
   "source": []
  }
 ],
 "metadata": {
  "interpreter": {
   "hash": "5ec7511d1fc7a72aba078c8815c4bcacd5404aac7a6282065ad4abec249876bb"
  },
  "kernelspec": {
   "display_name": "Python 3.7.11 ('zoobot')",
   "language": "python",
   "name": "python3"
  },
  "language_info": {
   "codemirror_mode": {
    "name": "ipython",
    "version": 3
   },
   "file_extension": ".py",
   "mimetype": "text/x-python",
   "name": "python",
   "nbconvert_exporter": "python",
   "pygments_lexer": "ipython3",
   "version": "3.7.11"
  },
  "orig_nbformat": 4
 },
 "nbformat": 4,
 "nbformat_minor": 2
}
