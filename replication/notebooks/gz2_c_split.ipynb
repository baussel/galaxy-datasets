{
 "cells": [
  {
   "cell_type": "code",
   "execution_count": 4,
   "metadata": {},
   "outputs": [
    {
     "data": {
      "text/plain": [
       " 0    78460\n",
       " 1    54997\n",
       " 4    26132\n",
       " 2    19734\n",
       "-1    11762\n",
       " 5     9246\n",
       " 3     4613\n",
       " 6     4295\n",
       "Name: label, dtype: int64"
      ]
     },
     "execution_count": 4,
     "metadata": {},
     "output_type": "execute_result"
    }
   ],
   "source": [
    "df['label'].value_counts()  # -1 if could not be assigned to leaf -but not dropped"
   ]
  },
  {
   "cell_type": "code",
   "execution_count": 6,
   "metadata": {},
   "outputs": [],
   "source": [
    "df['id_str'] = df['dr7objid']  # note - not iauname\n",
    "del df['asset_id']\n",
    "del df['dr7objid']"
   ]
  },
  {
   "cell_type": "code",
   "execution_count": 7,
   "metadata": {},
   "outputs": [],
   "source": [
    "# convert to ortho labels\n",
    "from zoobot.shared import label_metadata\n",
    "\n",
    "current_labels = label_metadata.gz2_label_cols\n",
    "ortho_labels = label_metadata.gz2_ortho_label_cols\n",
    "\n",
    "count_renamer = dict(zip(current_labels, ortho_labels))\n",
    "\n",
    "fraction_renamer = dict(zip([x + '_fraction' for x in current_labels], [x + '_fraction' for x in ortho_labels]))\n",
    "\n",
    "renamer = count_renamer\n",
    "renamer.update(fraction_renamer)\n",
    "# renamer\n",
    "\n",
    "df = df.rename(columns=renamer)"
   ]
  },
  {
   "cell_type": "code",
   "execution_count": 9,
   "metadata": {},
   "outputs": [
    {
     "data": {
      "text/plain": [
       "(1.0, 0)"
      ]
     },
     "execution_count": 9,
     "metadata": {},
     "output_type": "execute_result"
    }
   ],
   "source": [
    "temp = '/home/walml/repos/pytorch-galaxy-datasets/roots/gz2/images/' + df['filename']\n",
    "\n",
    "import os\n",
    "assert os.path.isfile(temp[0])\n",
    "\n",
    "is_file = [os.path.isfile(loc) for loc in temp]\n",
    "np.mean(is_file), len(is_file) -  np.sum(is_file)"
   ]
  },
  {
   "cell_type": "code",
   "execution_count": 10,
   "metadata": {},
   "outputs": [],
   "source": [
    "from PIL import Image\n",
    "\n",
    "for loc in temp:\n",
    "    if not Image.open(loc).size == (424, 424):\n",
    "        print(loc)\n",
    "        break"
   ]
  },
  {
   "cell_type": "code",
   "execution_count": 13,
   "metadata": {},
   "outputs": [],
   "source": [
    "train_catalog_loc = '/home/walml/repos/pytorch-galaxy-datasets/roots/gz2/gz2_train_catalog.parquet'\n",
    "test_catalog_loc = '/home/walml/repos/pytorch-galaxy-datasets/roots/gz2/gz2_test_catalog.parquet'\n",
    "\n",
    "# zip not tar.gz as directly from Zenodo\n",
    "images_loc = '/nvme1/scratch/walml/repos/pytorch-galaxy-datasets/roots/gz2/images_gz2.zip'"
   ]
  },
  {
   "cell_type": "code",
   "execution_count": 14,
   "metadata": {},
   "outputs": [],
   "source": [
    "train_catalog, test_catalog = train_test_split(df, test_size=0.2, random_state=42)\n",
    "\n",
    "train_catalog.to_parquet(train_catalog_loc, index=False)\n",
    "test_catalog.to_parquet(test_catalog_loc, index=False)"
   ]
  },
  {
   "cell_type": "code",
   "execution_count": 15,
   "metadata": {},
   "outputs": [
    {
     "name": "stdout",
     "output_type": "stream",
     "text": [
      "f489c9ec7dcf8d99f728bd00ee00b1d0\n",
      "8b2d74c93d35f86cc34f1d058b3b220b\n",
      "bc647032d31e50c798770cf4430525c7\n"
     ]
    }
   ],
   "source": [
    "import hashlib\n",
    "\n",
    "for loc in [\n",
    "    train_catalog_loc,\n",
    "    test_catalog_loc,\n",
    "    images_loc  # compressed from images above, takes 5 secs\n",
    "]:\n",
    "    # print hash\n",
    "    with open(loc, 'rb') as f:\n",
    "        md5_checksum = hashlib.md5(f.read()).hexdigest()\n",
    "\n",
    "    print(md5_checksum)"
   ]
  }
 ],
 "metadata": {
  "interpreter": {
   "hash": "5ec7511d1fc7a72aba078c8815c4bcacd5404aac7a6282065ad4abec249876bb"
  },
  "kernelspec": {
   "display_name": "Python 3.7.11 ('zoobot')",
   "language": "python",
   "name": "python3"
  },
  "language_info": {
   "codemirror_mode": {
    "name": "ipython",
    "version": 3
   },
   "file_extension": ".py",
   "mimetype": "text/x-python",
   "name": "python",
   "nbconvert_exporter": "python",
   "pygments_lexer": "ipython3",
   "version": "3.7.11"
  },
  "orig_nbformat": 4
 },
 "nbformat": 4,
 "nbformat_minor": 2
}
