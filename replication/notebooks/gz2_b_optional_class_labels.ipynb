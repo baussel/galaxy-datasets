{
 "cells": [
  {
   "cell_type": "code",
   "execution_count": 107,
   "metadata": {},
   "outputs": [
    {
     "name": "stdout",
     "output_type": "stream",
     "text": [
      "The autoreload extension is already loaded. To reload it, use:\n",
      "  %reload_ext autoreload\n"
     ]
    }
   ],
   "source": [
    "%load_ext autoreload\n",
    "%autoreload 2"
   ]
  },
  {
   "cell_type": "code",
   "execution_count": null,
   "metadata": {},
   "outputs": [],
   "source": [
    "# https://github.com/mwalmsley/curation-datasets/blob/main/notebooks/curation_friendly_gz2_catalog.ipynb\n",
    "# gz2 with class labels\n",
    "# (also exists for decals)"
   ]
  },
  {
   "cell_type": "code",
   "execution_count": 108,
   "metadata": {},
   "outputs": [],
   "source": [
    "import os\n",
    "\n",
    "import pandas as pd\n",
    "import numpy as np\n",
    "import matplotlib.pyplot as plt\n",
    "import seaborn as sns\n",
    "sns.set_context('notebook')\n",
    "\n",
    "from zoobot.shared import label_metadata, schemas"
   ]
  },
  {
   "cell_type": "code",
   "execution_count": 109,
   "metadata": {},
   "outputs": [],
   "source": [
    "\n",
    "\n",
    "question_answer_pairs = label_metadata.gz2_pairs\n",
    "dependencies = label_metadata.gz2_and_decals_dependencies\n",
    "schema = schemas.Schema(question_answer_pairs, dependencies)\n",
    "\n"
   ]
  },
  {
   "cell_type": "code",
   "execution_count": 110,
   "metadata": {},
   "outputs": [],
   "source": [
    "# df = pd.read_csv('/run/media/walml/beta/galaxy_zoo/gz2/subjects/gz2_hart16.csv')\n",
    "# df = pd.read_csv('/run/media/walml/beta/galaxy_zoo/gz2/subjects/gz2_classifications_and_subjects.csv')\n",
    "df = pd.read_parquet('/run/media/walml/beta/galaxy_zoo/gz2/subjects/gz2_catalog_with_modern_schema.parquet')"
   ]
  },
  {
   "cell_type": "code",
   "execution_count": 111,
   "metadata": {},
   "outputs": [
    {
     "data": {
      "text/plain": [
       "209293"
      ]
     },
     "execution_count": 111,
     "metadata": {},
     "output_type": "execute_result"
    }
   ],
   "source": [
    "len(df)"
   ]
  },
  {
   "cell_type": "code",
   "execution_count": 112,
   "metadata": {},
   "outputs": [
    {
     "data": {
      "text/html": [
       "<div>\n",
       "<style scoped>\n",
       "    .dataframe tbody tr th:only-of-type {\n",
       "        vertical-align: middle;\n",
       "    }\n",
       "\n",
       "    .dataframe tbody tr th {\n",
       "        vertical-align: top;\n",
       "    }\n",
       "\n",
       "    .dataframe thead th {\n",
       "        text-align: right;\n",
       "    }\n",
       "</style>\n",
       "<table border=\"1\" class=\"dataframe\">\n",
       "  <thead>\n",
       "    <tr style=\"text-align: right;\">\n",
       "      <th></th>\n",
       "      <th>dr7objid</th>\n",
       "      <th>png_loc</th>\n",
       "      <th>smooth-or-featured_smooth</th>\n",
       "      <th>smooth-or-featured_featured-or-disk</th>\n",
       "      <th>smooth-or-featured_artifact</th>\n",
       "      <th>disk-edge-on_yes</th>\n",
       "      <th>disk-edge-on_no</th>\n",
       "      <th>bar_yes</th>\n",
       "      <th>bar_no</th>\n",
       "      <th>has-spiral-arms_yes</th>\n",
       "      <th>...</th>\n",
       "      <th>spiral-winding_medium_fraction</th>\n",
       "      <th>spiral-winding_loose_fraction</th>\n",
       "      <th>spiral-arm-count_total-votes</th>\n",
       "      <th>spiral-arm-count_1_fraction</th>\n",
       "      <th>spiral-arm-count_2_fraction</th>\n",
       "      <th>spiral-arm-count_3_fraction</th>\n",
       "      <th>spiral-arm-count_4_fraction</th>\n",
       "      <th>spiral-arm-count_more-than-4_fraction</th>\n",
       "      <th>spiral-arm-count_cant-tell_fraction</th>\n",
       "      <th>file_loc</th>\n",
       "    </tr>\n",
       "  </thead>\n",
       "  <tbody>\n",
       "    <tr>\n",
       "      <th>0</th>\n",
       "      <td>587732591714893851</td>\n",
       "      <td>/raid/scratch/walml/galaxy_zoo/gz2/png/587732/...</td>\n",
       "      <td>0</td>\n",
       "      <td>42</td>\n",
       "      <td>3</td>\n",
       "      <td>2</td>\n",
       "      <td>40</td>\n",
       "      <td>1</td>\n",
       "      <td>39</td>\n",
       "      <td>40</td>\n",
       "      <td>...</td>\n",
       "      <td>0.300000</td>\n",
       "      <td>0.02500</td>\n",
       "      <td>40</td>\n",
       "      <td>0.0</td>\n",
       "      <td>0.075000</td>\n",
       "      <td>0.02500</td>\n",
       "      <td>0.05000</td>\n",
       "      <td>0.450000</td>\n",
       "      <td>0.400000</td>\n",
       "      <td>/run/media/walml/beta/galaxy_zoo/gz2/png/58773...</td>\n",
       "    </tr>\n",
       "    <tr>\n",
       "      <th>1</th>\n",
       "      <td>588009368545984617</td>\n",
       "      <td>/raid/scratch/walml/galaxy_zoo/gz2/png/588009/...</td>\n",
       "      <td>1</td>\n",
       "      <td>41</td>\n",
       "      <td>0</td>\n",
       "      <td>0</td>\n",
       "      <td>41</td>\n",
       "      <td>4</td>\n",
       "      <td>37</td>\n",
       "      <td>41</td>\n",
       "      <td>...</td>\n",
       "      <td>0.097561</td>\n",
       "      <td>0.04878</td>\n",
       "      <td>41</td>\n",
       "      <td>0.0</td>\n",
       "      <td>0.097561</td>\n",
       "      <td>0.04878</td>\n",
       "      <td>0.02439</td>\n",
       "      <td>0.512195</td>\n",
       "      <td>0.317073</td>\n",
       "      <td>/run/media/walml/beta/galaxy_zoo/gz2/png/58800...</td>\n",
       "    </tr>\n",
       "    <tr>\n",
       "      <th>2</th>\n",
       "      <td>587732484359913515</td>\n",
       "      <td>/raid/scratch/walml/galaxy_zoo/gz2/png/587732/...</td>\n",
       "      <td>28</td>\n",
       "      <td>5</td>\n",
       "      <td>3</td>\n",
       "      <td>0</td>\n",
       "      <td>5</td>\n",
       "      <td>2</td>\n",
       "      <td>3</td>\n",
       "      <td>0</td>\n",
       "      <td>...</td>\n",
       "      <td>NaN</td>\n",
       "      <td>NaN</td>\n",
       "      <td>0</td>\n",
       "      <td>NaN</td>\n",
       "      <td>NaN</td>\n",
       "      <td>NaN</td>\n",
       "      <td>NaN</td>\n",
       "      <td>NaN</td>\n",
       "      <td>NaN</td>\n",
       "      <td>/run/media/walml/beta/galaxy_zoo/gz2/png/58773...</td>\n",
       "    </tr>\n",
       "    <tr>\n",
       "      <th>3</th>\n",
       "      <td>587741723357282317</td>\n",
       "      <td>/raid/scratch/walml/galaxy_zoo/gz2/png/587741/...</td>\n",
       "      <td>1</td>\n",
       "      <td>27</td>\n",
       "      <td>0</td>\n",
       "      <td>1</td>\n",
       "      <td>26</td>\n",
       "      <td>1</td>\n",
       "      <td>25</td>\n",
       "      <td>25</td>\n",
       "      <td>...</td>\n",
       "      <td>0.320000</td>\n",
       "      <td>0.04000</td>\n",
       "      <td>25</td>\n",
       "      <td>0.0</td>\n",
       "      <td>0.080000</td>\n",
       "      <td>0.24000</td>\n",
       "      <td>0.20000</td>\n",
       "      <td>0.240000</td>\n",
       "      <td>0.240000</td>\n",
       "      <td>/run/media/walml/beta/galaxy_zoo/gz2/png/58774...</td>\n",
       "    </tr>\n",
       "    <tr>\n",
       "      <th>4</th>\n",
       "      <td>587738410866966577</td>\n",
       "      <td>/raid/scratch/walml/galaxy_zoo/gz2/png/587738/...</td>\n",
       "      <td>33</td>\n",
       "      <td>8</td>\n",
       "      <td>2</td>\n",
       "      <td>1</td>\n",
       "      <td>7</td>\n",
       "      <td>0</td>\n",
       "      <td>7</td>\n",
       "      <td>0</td>\n",
       "      <td>...</td>\n",
       "      <td>NaN</td>\n",
       "      <td>NaN</td>\n",
       "      <td>0</td>\n",
       "      <td>NaN</td>\n",
       "      <td>NaN</td>\n",
       "      <td>NaN</td>\n",
       "      <td>NaN</td>\n",
       "      <td>NaN</td>\n",
       "      <td>NaN</td>\n",
       "      <td>/run/media/walml/beta/galaxy_zoo/gz2/png/58773...</td>\n",
       "    </tr>\n",
       "  </tbody>\n",
       "</table>\n",
       "<p>5 rows × 73 columns</p>\n",
       "</div>"
      ],
      "text/plain": [
       "             dr7objid                                            png_loc  \\\n",
       "0  587732591714893851  /raid/scratch/walml/galaxy_zoo/gz2/png/587732/...   \n",
       "1  588009368545984617  /raid/scratch/walml/galaxy_zoo/gz2/png/588009/...   \n",
       "2  587732484359913515  /raid/scratch/walml/galaxy_zoo/gz2/png/587732/...   \n",
       "3  587741723357282317  /raid/scratch/walml/galaxy_zoo/gz2/png/587741/...   \n",
       "4  587738410866966577  /raid/scratch/walml/galaxy_zoo/gz2/png/587738/...   \n",
       "\n",
       "   smooth-or-featured_smooth  smooth-or-featured_featured-or-disk  \\\n",
       "0                          0                                   42   \n",
       "1                          1                                   41   \n",
       "2                         28                                    5   \n",
       "3                          1                                   27   \n",
       "4                         33                                    8   \n",
       "\n",
       "   smooth-or-featured_artifact  disk-edge-on_yes  disk-edge-on_no  bar_yes  \\\n",
       "0                            3                 2               40        1   \n",
       "1                            0                 0               41        4   \n",
       "2                            3                 0                5        2   \n",
       "3                            0                 1               26        1   \n",
       "4                            2                 1                7        0   \n",
       "\n",
       "   bar_no  has-spiral-arms_yes  ...  spiral-winding_medium_fraction  \\\n",
       "0      39                   40  ...                        0.300000   \n",
       "1      37                   41  ...                        0.097561   \n",
       "2       3                    0  ...                             NaN   \n",
       "3      25                   25  ...                        0.320000   \n",
       "4       7                    0  ...                             NaN   \n",
       "\n",
       "   spiral-winding_loose_fraction  spiral-arm-count_total-votes  \\\n",
       "0                        0.02500                            40   \n",
       "1                        0.04878                            41   \n",
       "2                            NaN                             0   \n",
       "3                        0.04000                            25   \n",
       "4                            NaN                             0   \n",
       "\n",
       "   spiral-arm-count_1_fraction  spiral-arm-count_2_fraction  \\\n",
       "0                          0.0                     0.075000   \n",
       "1                          0.0                     0.097561   \n",
       "2                          NaN                          NaN   \n",
       "3                          0.0                     0.080000   \n",
       "4                          NaN                          NaN   \n",
       "\n",
       "   spiral-arm-count_3_fraction  spiral-arm-count_4_fraction  \\\n",
       "0                      0.02500                      0.05000   \n",
       "1                      0.04878                      0.02439   \n",
       "2                          NaN                          NaN   \n",
       "3                      0.24000                      0.20000   \n",
       "4                          NaN                          NaN   \n",
       "\n",
       "   spiral-arm-count_more-than-4_fraction  spiral-arm-count_cant-tell_fraction  \\\n",
       "0                               0.450000                             0.400000   \n",
       "1                               0.512195                             0.317073   \n",
       "2                                    NaN                                  NaN   \n",
       "3                               0.240000                             0.240000   \n",
       "4                                    NaN                                  NaN   \n",
       "\n",
       "                                            file_loc  \n",
       "0  /run/media/walml/beta/galaxy_zoo/gz2/png/58773...  \n",
       "1  /run/media/walml/beta/galaxy_zoo/gz2/png/58800...  \n",
       "2  /run/media/walml/beta/galaxy_zoo/gz2/png/58773...  \n",
       "3  /run/media/walml/beta/galaxy_zoo/gz2/png/58774...  \n",
       "4  /run/media/walml/beta/galaxy_zoo/gz2/png/58773...  \n",
       "\n",
       "[5 rows x 73 columns]"
      ]
     },
     "execution_count": 112,
     "metadata": {},
     "output_type": "execute_result"
    }
   ],
   "source": [
    "df.head()"
   ]
  },
  {
   "cell_type": "code",
   "execution_count": 113,
   "metadata": {},
   "outputs": [
    {
     "data": {
      "text/plain": [
       "0         42\n",
       "1         41\n",
       "2          5\n",
       "3         27\n",
       "4          8\n",
       "          ..\n",
       "209288    12\n",
       "209289    13\n",
       "209290     8\n",
       "209291     0\n",
       "209292     3\n",
       "Name: smooth-or-featured_featured-or-disk, Length: 209293, dtype: int64"
      ]
     },
     "execution_count": 113,
     "metadata": {},
     "output_type": "execute_result"
    }
   ],
   "source": [
    "df['smooth-or-featured_featured-or-disk']"
   ]
  },
  {
   "cell_type": "code",
   "execution_count": 114,
   "metadata": {},
   "outputs": [],
   "source": [
    "# adapted from https://github.com/mwalmsley/galaxy_mnist/blob/main/reproduce/consider_classes.ipynb\n",
    "\n",
    "def get_question_semantic_label(galaxy, question, min_relevance_threshold=0.5, min_confidence_threshold=0.5):\n",
    "    \n",
    "    if question.asked_after is not None:\n",
    "        # at least ``min_relevance_threshold`` of volunteers must have gone down this path, else consider unknown (-)\n",
    "        has_enough_answers = galaxy[question.asked_after.text] > galaxy['smooth-or-featured_total-votes'] * min_relevance_threshold\n",
    "        if not has_enough_answers:\n",
    "            return '-'\n",
    "    \n",
    "    answer_cols = [a.text for a in question.answers]\n",
    "    \n",
    "    # check for deadlock\n",
    "    sorted_answers = np.sort(galaxy[answer_cols])  # ascending\n",
    "    if sorted_answers[-1] == sorted_answers[-2]:\n",
    "        return 'deadlock'\n",
    "\n",
    "    highest_conf_answer = np.argmax(galaxy[answer_cols])  # if tiebreak, will default to the first\n",
    "    # of the volunteers who did go down this path, at least min_confidence_threshold must have given this answer\n",
    "    if galaxy[answer_cols[highest_conf_answer] + '_fraction'] > min_confidence_threshold:\n",
    "        return answer_cols[highest_conf_answer]\n",
    "    else:\n",
    "        return 'unclear'\n",
    "\n"
   ]
  },
  {
   "cell_type": "code",
   "execution_count": 115,
   "metadata": {},
   "outputs": [
    {
     "name": "stdout",
     "output_type": "stream",
     "text": [
      "smooth-or-featured smooth-or-featured_featured-or-disk\n",
      "disk-edge-on disk-edge-on_no\n",
      "has-spiral-arms has-spiral-arms_yes\n",
      "bar bar_no\n",
      "bulge-size bulge-size_just-noticeable\n",
      "something-odd something-odd_no\n",
      "how-rounded -\n",
      "bulge-shape -\n",
      "spiral-winding spiral-winding_tight\n",
      "spiral-arm-count unclear\n"
     ]
    }
   ],
   "source": [
    "galaxy = df.iloc[0]\n",
    "\n",
    "for question in schema.questions:\n",
    "    print(question.text, get_question_semantic_label(galaxy, question))"
   ]
  },
  {
   "cell_type": "code",
   "execution_count": 116,
   "metadata": {},
   "outputs": [],
   "source": [
    "sample = df.sample(5000)\n",
    "\n",
    "for question in schema.questions:\n",
    "    sample[question.text + '_semantic'] = sample.apply(lambda x: get_question_semantic_label(x, question, min_relevance_threshold=0.5, min_confidence_threshold=0.), axis=1)"
   ]
  },
  {
   "cell_type": "code",
   "execution_count": 117,
   "metadata": {},
   "outputs": [
    {
     "data": {
      "text/plain": [
       "smooth-or-featured_smooth how-rounded_in-between - - -                                1885\n",
       "smooth-or-featured_smooth how-rounded_round - - -                                     1335\n",
       "smooth-or-featured_featured-or-disk - disk-edge-on_no has-spiral-arms_yes bar_no       605\n",
       "smooth-or-featured_smooth how-rounded_cigar - - -                                      451\n",
       "smooth-or-featured_featured-or-disk - disk-edge-on_no has-spiral-arms_yes bar_yes      236\n",
       "smooth-or-featured_featured-or-disk - disk-edge-on_no has-spiral-arms_no bar_no         97\n",
       "smooth-or-featured_featured-or-disk - disk-edge-on_yes deadlock deadlock                67\n",
       "smooth-or-featured_smooth - - - -                                                       55\n",
       "smooth-or-featured_featured-or-disk - disk-edge-on_no has-spiral-arms_no bar_yes        48\n",
       "smooth-or-featured_smooth deadlock - - -                                                40\n",
       "smooth-or-featured_featured-or-disk - - - -                                             38\n",
       "smooth-or-featured_featured-or-disk - disk-edge-on_yes has-spiral-arms_no bar_no        37\n",
       "deadlock - - - -                                                                        35\n",
       "smooth-or-featured_featured-or-disk - disk-edge-on_yes has-spiral-arms_yes bar_no       25\n",
       "smooth-or-featured_artifact - - - -                                                      9\n",
       "smooth-or-featured_featured-or-disk - disk-edge-on_no deadlock bar_no                    7\n",
       "smooth-or-featured_featured-or-disk - disk-edge-on_yes has-spiral-arms_no bar_yes        6\n",
       "smooth-or-featured_featured-or-disk - disk-edge-on_yes has-spiral-arms_yes bar_yes       5\n",
       "smooth-or-featured_featured-or-disk - disk-edge-on_no has-spiral-arms_yes deadlock       5\n",
       "smooth-or-featured_featured-or-disk - disk-edge-on_yes has-spiral-arms_no deadlock       3\n",
       "Name: temp_semantic_label, dtype: int64"
      ]
     },
     "execution_count": 117,
     "metadata": {},
     "output_type": "execute_result"
    }
   ],
   "source": [
    "\n",
    "\n",
    "key_questions = ['smooth-or-featured', 'how-rounded', 'disk-edge-on', 'has-spiral-arms', 'bar']\n",
    "\n",
    "sample['temp_semantic_label'] = sample.apply(lambda galaxy: ' '.join(galaxy[[col + '_semantic' for col in key_questions]]), axis=1)\n",
    "\n",
    "sample['temp_semantic_label'].value_counts()[:20]\n",
    "\n",
    "# smooth-or-featured_smooth - - - - is possible because of artifact: one can be mode smooth, but have less have half answer smooth\n",
    "\n"
   ]
  },
  {
   "cell_type": "code",
   "execution_count": 118,
   "metadata": {},
   "outputs": [
    {
     "data": {
      "text/plain": [
       "smooth_inbetween                  1885\n",
       "smooth_round                      1335\n",
       "unbarred_spiral                    605\n",
       "smooth_cigar                       451\n",
       "barred_spiral                      236\n",
       "edge_on_disk                       103\n",
       "featured_without_bar_or_spiral      97\n",
       "Name: summary, dtype: int64"
      ]
     },
     "execution_count": 118,
     "metadata": {},
     "output_type": "execute_result"
    }
   ],
   "source": [
    "\n",
    "\n",
    "semantic_to_summary = {\n",
    "    'smooth-or-featured_smooth how-rounded_round - - -': 'smooth_round',\n",
    "    'smooth-or-featured_smooth how-rounded_in-between - - -': 'smooth_inbetween',\n",
    "    'smooth-or-featured_smooth how-rounded_cigar - - -': 'smooth_cigar',\n",
    "    'smooth-or-featured_featured-or-disk - disk-edge-on_no has-spiral-arms_yes bar_no': 'unbarred_spiral',\n",
    "    'smooth-or-featured_featured-or-disk - disk-edge-on_no has-spiral-arms_yes bar_yes': 'barred_spiral',\n",
    "    'smooth-or-featured_featured-or-disk - disk-edge-on_yes - -': 'edge_on_disk',\n",
    "    'smooth-or-featured_featured-or-disk - disk-edge-on_no has-spiral-arms_no bar_no': 'featured_without_bar_or_spiral',\n",
    "    # call all of these edge-on disk, regardless of further answers\n",
    "    'smooth-or-featured_featured-or-disk - disk-edge-on_yes deadlock deadlock': 'edge_on_disk',\n",
    "    'smooth-or-featured_featured-or-disk - disk-edge-on_yes has-spiral-arms_yes bar_no': 'edge_on_disk',\n",
    "    'smooth-or-featured_featured-or-disk - disk-edge-on_yes has-spiral-arms_yes bar_yes': 'edge_on_disk',\n",
    "    'smooth-or-featured_featured-or-disk - disk-edge-on_yes has-spiral-arms_yes bar_no': 'edge_on_disk',\n",
    "    'smooth-or-featured_featured-or-disk - disk-edge-on_yes has-spiral-arms_no bar_yes': 'edge_on_disk',\n",
    "}\n",
    "sample['summary'] = sample['temp_semantic_label'].apply(lambda x: semantic_to_summary.get(x, None))\n",
    "\n",
    "sample['summary'].value_counts()\n",
    "\n"
   ]
  },
  {
   "cell_type": "code",
   "execution_count": null,
   "metadata": {},
   "outputs": [],
   "source": []
  },
  {
   "cell_type": "code",
   "execution_count": 119,
   "metadata": {},
   "outputs": [],
   "source": [
    "# sample[sample['temp_semantic_label'] == \"smooth-or-featured_smooth - - - -\"]\n",
    "# sample[sample['temp_semantic_label'] == \"smooth-or-featured_featured-or-disk - disk-edge-on_yes deadlock deadlock\"]['summary']"
   ]
  },
  {
   "cell_type": "markdown",
   "metadata": {},
   "source": [
    "### Apply to whole dataset (6 mins)"
   ]
  },
  {
   "cell_type": "code",
   "execution_count": 121,
   "metadata": {},
   "outputs": [],
   "source": [
    "# takes about 5 minutes for the full dataset\n",
    "for question in schema.questions:\n",
    "    df[question.text + '_semantic'] = df.apply(lambda x: get_question_semantic_label(x, question, min_relevance_threshold=0.5, min_confidence_threshold=0.), axis=1)"
   ]
  },
  {
   "cell_type": "code",
   "execution_count": 122,
   "metadata": {},
   "outputs": [
    {
     "data": {
      "text/plain": [
       "smooth-or-featured_smooth how-rounded_in-between - - -                                78460\n",
       "smooth-or-featured_smooth how-rounded_round - - -                                     54997\n",
       "smooth-or-featured_featured-or-disk - disk-edge-on_no has-spiral-arms_yes bar_no      26132\n",
       "smooth-or-featured_smooth how-rounded_cigar - - -                                     19734\n",
       "smooth-or-featured_featured-or-disk - disk-edge-on_no has-spiral-arms_yes bar_yes      9246\n",
       "smooth-or-featured_featured-or-disk - disk-edge-on_no has-spiral-arms_no bar_no        4295\n",
       "smooth-or-featured_featured-or-disk - disk-edge-on_yes deadlock deadlock               2753\n",
       "smooth-or-featured_featured-or-disk - disk-edge-on_no has-spiral-arms_no bar_yes       2073\n",
       "smooth-or-featured_smooth - - - -                                                      1918\n",
       "smooth-or-featured_featured-or-disk - - - -                                            1688\n",
       "smooth-or-featured_featured-or-disk - disk-edge-on_yes has-spiral-arms_no bar_no       1572\n",
       "smooth-or-featured_smooth deadlock - - -                                               1429\n",
       "deadlock - - - -                                                                       1367\n",
       "smooth-or-featured_featured-or-disk - disk-edge-on_yes has-spiral-arms_yes bar_no       979\n",
       "smooth-or-featured_featured-or-disk - disk-edge-on_yes has-spiral-arms_no bar_yes       629\n",
       "smooth-or-featured_featured-or-disk - disk-edge-on_no has-spiral-arms_yes deadlock      403\n",
       "smooth-or-featured_featured-or-disk - disk-edge-on_no deadlock bar_no                   386\n",
       "smooth-or-featured_featured-or-disk - disk-edge-on_yes has-spiral-arms_yes bar_yes      252\n",
       "smooth-or-featured_featured-or-disk - disk-edge-on_yes deadlock bar_no                  220\n",
       "smooth-or-featured_artifact - - - -                                                     213\n",
       "Name: temp_semantic_label, dtype: int64"
      ]
     },
     "execution_count": 122,
     "metadata": {},
     "output_type": "execute_result"
    }
   ],
   "source": [
    "# takes about 35 seconds\n",
    "\n",
    "key_questions = ['smooth-or-featured', 'how-rounded', 'disk-edge-on', 'has-spiral-arms', 'bar']\n",
    "\n",
    "df['temp_semantic_label'] = df.apply(lambda galaxy: ' '.join(galaxy[[col + '_semantic' for col in key_questions]]), axis=1)\n",
    "\n",
    "df['temp_semantic_label'].value_counts()[:20]"
   ]
  },
  {
   "cell_type": "code",
   "execution_count": 123,
   "metadata": {},
   "outputs": [
    {
     "data": {
      "text/plain": [
       "smooth_inbetween                  78460\n",
       "smooth_round                      54997\n",
       "unbarred_spiral                   26132\n",
       "smooth_cigar                      19734\n",
       "barred_spiral                      9246\n",
       "edge_on_disk                       4613\n",
       "featured_without_bar_or_spiral     4295\n",
       "Name: summary, dtype: int64"
      ]
     },
     "execution_count": 123,
     "metadata": {},
     "output_type": "execute_result"
    }
   ],
   "source": [
    "df['summary'] = df['temp_semantic_label'].apply(lambda x: semantic_to_summary.get(x, None))\n",
    "\n",
    "df['summary'].value_counts()\n"
   ]
  },
  {
   "cell_type": "code",
   "execution_count": 124,
   "metadata": {},
   "outputs": [
    {
     "data": {
      "text/html": [
       "<div>\n",
       "<style scoped>\n",
       "    .dataframe tbody tr th:only-of-type {\n",
       "        vertical-align: middle;\n",
       "    }\n",
       "\n",
       "    .dataframe tbody tr th {\n",
       "        vertical-align: top;\n",
       "    }\n",
       "\n",
       "    .dataframe thead th {\n",
       "        text-align: right;\n",
       "    }\n",
       "</style>\n",
       "<table border=\"1\" class=\"dataframe\">\n",
       "  <thead>\n",
       "    <tr style=\"text-align: right;\">\n",
       "      <th></th>\n",
       "      <th>summary</th>\n",
       "      <th>leaf_prob</th>\n",
       "    </tr>\n",
       "  </thead>\n",
       "  <tbody>\n",
       "    <tr>\n",
       "      <th>0</th>\n",
       "      <td>unbarred_spiral</td>\n",
       "      <td>0.866667</td>\n",
       "    </tr>\n",
       "    <tr>\n",
       "      <th>1</th>\n",
       "      <td>unbarred_spiral</td>\n",
       "      <td>0.880952</td>\n",
       "    </tr>\n",
       "    <tr>\n",
       "      <th>2</th>\n",
       "      <td>smooth_inbetween</td>\n",
       "      <td>0.638889</td>\n",
       "    </tr>\n",
       "    <tr>\n",
       "      <th>3</th>\n",
       "      <td>unbarred_spiral</td>\n",
       "      <td>0.858516</td>\n",
       "    </tr>\n",
       "    <tr>\n",
       "      <th>4</th>\n",
       "      <td>smooth_round</td>\n",
       "      <td>0.418605</td>\n",
       "    </tr>\n",
       "    <tr>\n",
       "      <th>...</th>\n",
       "      <td>...</td>\n",
       "      <td>...</td>\n",
       "    </tr>\n",
       "    <tr>\n",
       "      <th>209288</th>\n",
       "      <td>smooth_cigar</td>\n",
       "      <td>0.700000</td>\n",
       "    </tr>\n",
       "    <tr>\n",
       "      <th>209289</th>\n",
       "      <td>smooth_round</td>\n",
       "      <td>0.428571</td>\n",
       "    </tr>\n",
       "    <tr>\n",
       "      <th>209290</th>\n",
       "      <td>smooth_round</td>\n",
       "      <td>0.500000</td>\n",
       "    </tr>\n",
       "    <tr>\n",
       "      <th>209291</th>\n",
       "      <td>smooth_inbetween</td>\n",
       "      <td>0.700000</td>\n",
       "    </tr>\n",
       "    <tr>\n",
       "      <th>209292</th>\n",
       "      <td>smooth_cigar</td>\n",
       "      <td>0.690476</td>\n",
       "    </tr>\n",
       "  </tbody>\n",
       "</table>\n",
       "<p>209293 rows × 2 columns</p>\n",
       "</div>"
      ],
      "text/plain": [
       "                 summary  leaf_prob\n",
       "0        unbarred_spiral   0.866667\n",
       "1        unbarred_spiral   0.880952\n",
       "2       smooth_inbetween   0.638889\n",
       "3        unbarred_spiral   0.858516\n",
       "4           smooth_round   0.418605\n",
       "...                  ...        ...\n",
       "209288      smooth_cigar   0.700000\n",
       "209289      smooth_round   0.428571\n",
       "209290      smooth_round   0.500000\n",
       "209291  smooth_inbetween   0.700000\n",
       "209292      smooth_cigar   0.690476\n",
       "\n",
       "[209293 rows x 2 columns]"
      ]
     },
     "execution_count": 124,
     "metadata": {},
     "output_type": "execute_result"
    }
   ],
   "source": [
    "# leaf probability\n",
    "\n",
    "# could do this programatically, but can code up manually pretty easily\n",
    "\n",
    "leaf_prob_cols_to_multiply = {\n",
    "    'smooth_inbetween': ['smooth-or-featured_smooth_fraction', 'how-rounded_in-between_fraction'],\n",
    "    'smooth_round': ['smooth-or-featured_smooth_fraction', 'how-rounded_round_fraction'],\n",
    "    'smooth_cigar': ['smooth-or-featured_smooth_fraction', 'how-rounded_cigar_fraction'],\n",
    "    'edge_on_disk': ['smooth-or-featured_featured-or-disk_fraction', 'disk-edge-on_yes_fraction'],\n",
    "    'unbarred_spiral': ['smooth-or-featured_featured-or-disk_fraction', 'disk-edge-on_no_fraction', 'has-spiral-arms_yes_fraction', 'bar_no_fraction'],\n",
    "    'barred_spiral': ['smooth-or-featured_featured-or-disk_fraction', 'disk-edge-on_no_fraction', 'has-spiral-arms_yes_fraction', 'bar_yes_fraction'],\n",
    "    'featured_without_bar_or_spiral': ['smooth-or-featured_featured-or-disk_fraction', 'disk-edge-on_no_fraction', 'has-spiral-arms_no_fraction', 'bar_no_fraction'],\n",
    "    None: []\n",
    "}\n",
    "\n",
    "def get_leaf_prob(galaxy):\n",
    "    cols_to_multiply = leaf_prob_cols_to_multiply[galaxy['summary']]\n",
    "    return np.prod(galaxy[cols_to_multiply])  # np.prod(galaxy[[]])  # defaults to 1\n",
    "\n",
    "df['leaf_prob'] = df.apply(get_leaf_prob, axis=1)\n",
    "\n",
    "df[['summary', 'leaf_prob']]\n",
    "\n"
   ]
  },
  {
   "cell_type": "code",
   "execution_count": 125,
   "metadata": {},
   "outputs": [
    {
     "data": {
      "text/plain": [
       "(array([  452.,  3191.,  9243., 19101., 33697., 36538., 36881., 35392.,\n",
       "        20208., 14590.]),\n",
       " array([0.08990011, 0.1809101 , 0.27192009, 0.36293008, 0.45394007,\n",
       "        0.54495006, 0.63596004, 0.72697003, 0.81798002, 0.90899001,\n",
       "        1.        ]),\n",
       " <BarContainer object of 10 artists>)"
      ]
     },
     "execution_count": 125,
     "metadata": {},
     "output_type": "execute_result"
    },
    {
     "data": {
      "image/png": "[encoded data removed]",
      "text/plain": [
       "<Figure size 432x288 with 1 Axes>"
      ]
     },
     "metadata": {
      "needs_background": "light"
     },
     "output_type": "display_data"
    }
   ],
   "source": [
    "plt.hist(df['leaf_prob'])"
   ]
  },
  {
   "cell_type": "code",
   "execution_count": 126,
   "metadata": {},
   "outputs": [
    {
     "data": {
      "text/plain": [
       "<AxesSubplot:xlabel='leaf_prob', ylabel='Density'>"
      ]
     },
     "execution_count": 126,
     "metadata": {},
     "output_type": "execute_result"
    },
    {
     "data": {
      "image/png": "[encoded data removed]",
      "text/plain": [
       "<Figure size 864x576 with 1 Axes>"
      ]
     },
     "metadata": {
      "needs_background": "light"
     },
     "output_type": "display_data"
    }
   ],
   "source": [
    "fig, ax = plt.subplots(figsize=(12, 8))\n",
    "sns.histplot(data=df, hue='summary', x='leaf_prob', ax=ax, stat='density', common_norm=False, common_bins=True)"
   ]
  },
  {
   "cell_type": "code",
   "execution_count": 127,
   "metadata": {},
   "outputs": [
    {
     "data": {
      "image/png": "[encoded data removed]",
      "text/plain": [
       "<Figure size 576x864 with 7 Axes>"
      ]
     },
     "metadata": {
      "needs_background": "light"
     },
     "output_type": "display_data"
    }
   ],
   "source": [
    "fig, axes = plt.subplots(figsize=(8, 12), nrows=7, sharex=True, sharey=True)\n",
    "_, bins = np.histogram(np.linspace(0., 1.), bins=20)\n",
    "\n",
    "for leaf_n, leaf in enumerate(df['summary'].dropna().unique()):\n",
    "    \n",
    "    ax = axes[leaf_n]\n",
    "\n",
    "    leaf_probs = df.query(f'summary == \"{leaf}\"')['leaf_prob']\n",
    "    ax.hist(leaf_probs, bins=bins, density=True)\n",
    "\n",
    "    ax.set_title(leaf)\n",
    "\n",
    "fig.tight_layout()"
   ]
  },
  {
   "cell_type": "code",
   "execution_count": null,
   "metadata": {},
   "outputs": [],
   "source": [
    "\n",
    "\n",
    "summary_to_class_index = {\n",
    "    'smooth_inbetween': 0,\n",
    "    'smooth_round': 1,\n",
    "    'smooth_cigar': 2,\n",
    "    'edge_on_disk': 3,\n",
    "    'unbarred_spiral': 4,\n",
    "    'barred_spiral': 5,\n",
    "    'featured_without_bar_or_spiral': 6\n",
    "}\n",
    "\n",
    "df['label'] = df['summary'].apply(lambda x: summary_to_class_index.get(x, -1)).astype(int)  # be sure to drop -1's. Keeping here for dtype (nan is float)\n",
    "\n",
    "df['label'].value_counts()\n",
    "\n",
    "\n",
    "\n",
    "     \n"
   ]
  },
  {
   "cell_type": "code",
   "execution_count": 128,
   "metadata": {},
   "outputs": [],
   "source": [
    "df.to_parquet('gz2_with_leafs.parquet')"
   ]
  },
  {
   "cell_type": "markdown",
   "metadata": {},
   "source": [
    "You can see how changing curation will change the class balance: first will drop misc-featured, then spirals, then smooth-cigar, then the rest"
   ]
  },
  {
   "cell_type": "markdown",
   "metadata": {},
   "source": []
  }
 ],
 "metadata": {
  "kernelspec": {
   "display_name": "zoobot",
   "language": "python",
   "name": "python3"
  },
  "language_info": {
   "codemirror_mode": {
    "name": "ipython",
    "version": 3
   },
   "file_extension": ".py",
   "mimetype": "text/x-python",
   "name": "python",
   "nbconvert_exporter": "python",
   "pygments_lexer": "ipython3",
   "version": "3.7.11 (default, Jul 27 2021, 14:32:16) \n[GCC 7.5.0]"
  },
  "orig_nbformat": 4,
  "vscode": {
   "interpreter": {
    "hash": "bd3647569e49d48fa5822e6521f6e70d75d673e092d7157d5bb23a9c666da2e5"
   }
  }
 },
 "nbformat": 4,
 "nbformat_minor": 2
}
