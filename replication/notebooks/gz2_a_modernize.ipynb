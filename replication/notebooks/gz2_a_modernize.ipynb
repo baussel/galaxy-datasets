{
 "cells": [
  {
   "cell_type": "code",
   "execution_count": null,
   "metadata": {},
   "outputs": [],
   "source": [
    "import os\n",
    "\n",
    "import pandas as pd\n",
    "import numpy as np\n",
    "\n",
    "from zoobot.shared import label_metadata, schemas"
   ]
  },
  {
   "cell_type": "code",
   "execution_count": null,
   "metadata": {},
   "outputs": [],
   "source": [
    "# final version of https://github.com/mwalmsley/curation-datasets/blob/main/notebooks/rename_gz2_catalog.ipynb"
   ]
  },
  {
   "cell_type": "code",
   "execution_count": null,
   "metadata": {},
   "outputs": [],
   "source": [
    "# TODO review where exactly this comes from - hart16?\n",
    "master_df = pd.read_parquet('/run/media/walml/beta/galaxy_zoo/gz2/subjects/image_master_catalog.parquet')\n",
    "\"\"\"\n",
    "original    209294\n",
    "extra        21844\n",
    "stripe82      8557\n",
    "\"\"\"\n",
    "master_df = master_df.query('sample == \"original\"')\n",
    "len(master_df)"
   ]
  },
  {
   "cell_type": "code",
   "execution_count": null,
   "metadata": {},
   "outputs": [],
   "source": [
    "renamer = {\n",
    "    't01_smooth_or_features_a01_smooth': 'smooth-or-featured_smooth',\n",
    "    't01_smooth_or_features_a02_features_or_disk': 'smooth-or-featured_featured-or-disk',\n",
    "    't01_smooth_or_features_a03_star_or_artifact': 'smooth-or-featured_artifact',\n",
    "    't02_edgeon_a04_yes': 'disk-edge-on_yes',\n",
    "    't02_edgeon_a05_no': 'disk-edge-on_no',\n",
    "    't03_bar_a06_bar': 'bar_yes',\n",
    "    't03_bar_a07_no_bar': 'bar_no',\n",
    "    't04_spiral_a08_spiral': 'has-spiral-arms_yes',\n",
    "    't04_spiral_a09_no_spiral': 'has-spiral-arms_no',\n",
    "    't05_bulge_prominence_a10_no_bulge': 'bulge-size_no',\n",
    "    't05_bulge_prominence_a11_just_noticeable': 'bulge-size_just-noticeable',\n",
    "    't05_bulge_prominence_a12_obvious': 'bulge-size_obvious',\n",
    "    't05_bulge_prominence_a13_dominant': 'bulge-size_dominant',\n",
    "    't06_odd_a14_yes': 'something-odd_yes',\n",
    "    't06_odd_a15_no': 'something-odd_no',\n",
    "    't07_rounded_a16_completely_round': 'how-rounded_round',\n",
    "    't07_rounded_a17_in_between': 'how-rounded_in-between',\n",
    "    't07_rounded_a18_cigar_shaped': 'how-rounded_cigar',\n",
    "    't09_bulge_shape_a25_rounded': 'bulge-shape_round',\n",
    "    't09_bulge_shape_a26_boxy': 'bulge-shape_boxy',\n",
    "    't09_bulge_shape_a27_no_bulge': 'bulge-shape_no-bulge',\n",
    "    't10_arms_winding_a28_tight': 'spiral-winding_tight',\n",
    "    't10_arms_winding_a29_medium': 'spiral-winding_medium',\n",
    "    't10_arms_winding_a30_loose': 'spiral-winding_loose',\n",
    "    't11_arms_number_a31_1': 'spiral-arm-count_1',\n",
    "    't11_arms_number_a32_2': 'spiral-arm-count_2',\n",
    "    't11_arms_number_a33_3': 'spiral-arm-count_3',\n",
    "    't11_arms_number_a34_4': 'spiral-arm-count_4',\n",
    "    't11_arms_number_a36_more_than_4': 'spiral-arm-count_more-than-4',\n",
    "    't11_arms_number_a37_cant_tell': 'spiral-arm-count_cant-tell'\n",
    "}\n",
    "\n",
    "renamer_with_count = dict([(key + '_count', value) for key, value in renamer.items()])\n",
    "\n",
    "# copy the key id columns\n",
    "df = master_df[['dr7objid', 'png_loc']]\n",
    "\n",
    "# copy all label columns using renamer\n",
    "for key, value in renamer_with_count.items():\n",
    "    df.loc[:, value] = master_df[key]\n",
    "\n",
    "df\n"
   ]
  },
  {
   "cell_type": "code",
   "execution_count": null,
   "metadata": {},
   "outputs": [],
   "source": [
    "\n",
    "# now the schema object will work, I can calculate fractions and totals\n",
    "\n",
    "question_answer_pairs = label_metadata.gz2_pairs\n",
    "dependencies = label_metadata.gz2_and_decals_dependencies\n",
    "schema = schemas.Schema(question_answer_pairs, dependencies)\n",
    "for question in schema.questions:\n",
    "    df[question.text + '_total-votes'] = df[[a.text for a in question.answers]].sum(axis=1)\n",
    "\n",
    "    for answer in question.answers:\n",
    "        df[answer.text + '_fraction'] = df[answer.text] / df[question.text + '_total-votes']\n",
    "\n",
    "\n",
    "\n"
   ]
  },
  {
   "cell_type": "code",
   "execution_count": null,
   "metadata": {},
   "outputs": [],
   "source": [
    "# fix paths\n",
    "df['file_loc'] = df['png_loc'].str.replace('/raid/scratch/walml', '/run/media/walml/beta')\n",
    "df['file_loc'][0]\n"
   ]
  },
  {
   "cell_type": "code",
   "execution_count": null,
   "metadata": {},
   "outputs": [],
   "source": [
    "# https://github.com/mwalmsley/curation-datasets/blob/main/downloadable_catalog.ipynb\n",
    "# TODO merge further path changes and mapping to asset_id, unclear why I have both?"
   ]
  },
  {
   "cell_type": "code",
   "execution_count": null,
   "metadata": {},
   "outputs": [],
   "source": [
    "\n",
    "# df['file_exists'] = df['file_loc'].apply(os.path.isfile)\n",
    "# df['file_exists'].value_counts()\n",
    "\n",
    "# df[~df['file_exists']].squeeze()['png_loc']\n",
    "# '/raid/scratch/walml/galaxy_zoo/gz2/png/587736/587736915146703138.png'\n",
    "# literally 1 image missing...\n",
    "\n",
    "df = df[df['dr7objid'] != 587736915146703138]\n",
    "# label_df['file_exists'].value_counts()"
   ]
  },
  {
   "cell_type": "code",
   "execution_count": null,
   "metadata": {},
   "outputs": [],
   "source": [
    "# TODO merge with NSA here\n"
   ]
  },
  {
   "cell_type": "code",
   "execution_count": null,
   "metadata": {},
   "outputs": [],
   "source": [
    "\n",
    "df.to_parquet('/run/media/walml/beta/galaxy_zoo/gz2/subjects/gz2_catalog_with_modern_schema.parquet', index=False)"
   ]
  }
 ],
 "metadata": {
  "language_info": {
   "name": "python"
  },
  "orig_nbformat": 4
 },
 "nbformat": 4,
 "nbformat_minor": 2
}
